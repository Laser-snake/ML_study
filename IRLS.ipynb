{
 "cells": [
  {
   "cell_type": "code",
   "execution_count": 1,
   "metadata": {},
   "outputs": [],
   "source": [
    "import numpy as np"
   ]
  },
  {
   "cell_type": "code",
   "execution_count": 2,
   "metadata": {},
   "outputs": [],
   "source": [
    "import matplotlib.pyplot as plt\n",
    "from sklearn import linear_model\n"
   ]
  },
  {
   "cell_type": "code",
   "execution_count": 3,
   "metadata": {},
   "outputs": [],
   "source": [
    "import statsmodels.api as sm"
   ]
  },
  {
   "cell_type": "code",
   "execution_count": 4,
   "metadata": {},
   "outputs": [],
   "source": [
    "from sklearn.model_selection import train_test_split"
   ]
  },
  {
   "cell_type": "code",
   "execution_count": 46,
   "metadata": {},
   "outputs": [],
   "source": [
    "n_in, n_out = 200, 10"
   ]
  },
  {
   "cell_type": "code",
   "execution_count": 47,
   "metadata": {},
   "outputs": [
    {
     "name": "stdout",
     "output_type": "stream",
     "text": [
      "[[ 1.05213949e+00  1.47765287e+00]\n",
      " [ 2.85250255e-01 -1.86165314e+00]\n",
      " [ 1.52196360e+00  1.45614464e+00]\n",
      " [ 9.53976397e-01  4.24680850e-01]\n",
      " [ 2.22974714e+00  2.74729105e+00]\n",
      " [ 1.45524778e-01 -7.35485855e-01]\n",
      " [-1.92660059e-01 -7.69199019e-01]\n",
      " [ 2.75131905e+00  2.31537388e+00]\n",
      " [ 1.11649273e+00  3.57347341e+00]\n",
      " [ 1.60588363e+00  8.48396948e-01]\n",
      " [ 2.00069040e+00  1.98110943e+00]\n",
      " [ 7.12913648e-01  1.98386206e+00]\n",
      " [ 1.12864890e+00  1.38119085e+00]\n",
      " [ 3.23797111e-01  8.51357444e-01]\n",
      " [ 9.52746035e-01  9.05083198e-01]\n",
      " [ 2.51763529e+00  1.09897718e+00]\n",
      " [ 2.50541081e+00  3.54087575e+00]\n",
      " [ 1.17128601e+00 -2.64920495e-01]\n",
      " [ 1.13181795e+00  2.82393082e+00]\n",
      " [ 1.05215763e-01 -5.00724972e-01]\n",
      " [ 2.21031786e+00  2.58562615e+00]\n",
      " [ 3.73927021e-01  9.38013406e-01]\n",
      " [ 6.55928448e-01 -2.63337261e-01]\n",
      " [ 5.46979400e-02 -5.37700405e-01]\n",
      " [ 6.11866548e-01  1.52874209e+00]\n",
      " [ 6.74759837e-01  3.55354386e-01]\n",
      " [ 2.64871166e+00  5.25873864e+00]\n",
      " [ 7.69975787e-01 -5.63727883e-01]\n",
      " [-4.44959228e-01  2.34576078e-01]\n",
      " [ 1.02832459e+00  3.86895965e+00]\n",
      " [ 1.24809396e+00  2.49728471e+00]\n",
      " [ 1.70932612e+00  1.38136089e+00]\n",
      " [ 1.51223488e+00  9.40781772e-01]\n",
      " [ 3.44643382e-02 -2.54748283e-01]\n",
      " [ 7.68327694e-01  1.93464263e+00]\n",
      " [ 1.84310590e+00  2.92909893e+00]\n",
      " [ 1.59547908e+00  6.18921111e-01]\n",
      " [ 1.66421012e+00  2.96684084e+00]\n",
      " [ 1.40984292e+00  1.68875798e+00]\n",
      " [ 1.00629527e+00  1.87104626e+00]\n",
      " [ 1.21216179e+00 -2.38443515e-01]\n",
      " [ 2.80419514e+00  2.64493172e+00]\n",
      " [ 9.54485452e-01 -7.81223535e-02]\n",
      " [-1.41483844e+00 -2.46836980e+00]\n",
      " [ 1.72117634e+00  1.31002397e+00]\n",
      " [ 4.46748243e-01  8.41630994e-01]\n",
      " [ 6.55369324e-01 -1.66047733e+00]\n",
      " [ 4.14464341e-01  4.60894490e-01]\n",
      " [ 1.21180619e+00  4.11473644e+00]\n",
      " [ 6.16460154e-01  1.86318087e+00]\n",
      " [ 1.54500890e+00  6.79218457e-01]\n",
      " [ 1.93661548e+00  1.99925909e+00]\n",
      " [ 1.29585937e+00  1.26444001e+00]\n",
      " [ 2.01433147e+00  9.43630213e-01]\n",
      " [ 1.36769745e+00  4.65997404e+00]\n",
      " [ 1.29225002e+00  1.33344403e+00]\n",
      " [ 1.26403750e+00 -7.70485065e-01]\n",
      " [ 1.99471959e+00  3.00950847e+00]\n",
      " [ 2.24039306e-01  2.87250839e+00]\n",
      " [-7.73824579e-01 -5.23115642e-01]\n",
      " [ 1.02919436e+00  9.79954731e-01]\n",
      " [ 1.13984554e+00 -7.91556266e-01]\n",
      " [ 3.58159166e-01  2.68654915e-01]\n",
      " [ 1.92851565e+00  1.44218275e+00]\n",
      " [ 2.00217223e+00  2.44054254e+00]\n",
      " [ 2.34564122e-02 -1.63175653e-02]\n",
      " [ 8.94690133e-01 -1.10734531e+00]\n",
      " [ 5.74519746e-01 -5.07689635e-01]\n",
      " [-1.82712125e-01 -3.28385555e+00]\n",
      " [ 1.39621050e+00  1.50190517e+00]\n",
      " [ 5.90722800e-01 -1.92539081e+00]\n",
      " [ 9.64881037e-01  1.44746508e+00]\n",
      " [ 2.81220715e-01 -1.33350601e+00]\n",
      " [-1.71295693e-01 -5.51914972e-01]\n",
      " [ 2.02758501e-01  5.88474728e-01]\n",
      " [-2.55980814e-02  1.93277059e+00]\n",
      " [ 1.60886768e+00 -9.15097495e-01]\n",
      " [ 1.61531703e+00  3.53584145e+00]\n",
      " [ 3.10641374e-01 -6.38842140e-02]\n",
      " [ 1.30967650e+00  4.42909690e+00]\n",
      " [-2.18250065e-01 -1.47625535e+00]\n",
      " [ 7.59535514e-01  2.54385503e-01]\n",
      " [-6.97406268e-02 -8.30940165e-01]\n",
      " [ 1.11139841e+00  3.16573330e-01]\n",
      " [ 8.03276724e-01  6.06454254e-01]\n",
      " [ 1.48263283e+00  9.74042395e-01]\n",
      " [ 5.97259319e-01  1.14361097e+00]\n",
      " [ 1.04242269e+00  1.38695521e+00]\n",
      " [ 4.19866760e-01  6.92317257e-01]\n",
      " [ 1.27636888e+00  1.02731710e+00]\n",
      " [ 6.27402664e-01  6.79187733e-01]\n",
      " [ 1.37567177e+00  1.34688668e+00]\n",
      " [ 1.19696302e+00  1.69865630e+00]\n",
      " [ 6.28504372e-01 -1.35396907e+00]\n",
      " [ 1.86258637e+00  1.80795392e-02]\n",
      " [ 1.54255351e+00 -1.73802002e-01]\n",
      " [-5.88812908e-01 -4.80379648e+00]\n",
      " [ 9.79492357e-01  1.38665182e+00]\n",
      " [-8.25536660e-01 -2.16201325e+00]\n",
      " [ 1.43341346e-01 -1.19578445e+00]\n",
      " [ 1.64783657e+00  7.06613086e-01]\n",
      " [ 4.36217095e-01  9.62459113e-02]\n",
      " [-1.65747425e-01 -2.75431915e+00]\n",
      " [ 2.00144853e+00  4.46520351e+00]\n",
      " [ 8.11017164e-01 -1.32945075e+00]\n",
      " [ 1.00633053e+00  1.91754815e-01]\n",
      " [ 7.66102475e-01  1.18141404e+00]\n",
      " [ 1.12757271e+00 -9.88377473e-01]\n",
      " [ 2.07013746e+00  5.13518812e-01]\n",
      " [ 1.24916279e+00  2.33162273e+00]\n",
      " [ 7.85320286e-01  1.89446081e-01]\n",
      " [ 5.72302538e-01  9.41046835e-01]\n",
      " [ 5.66439307e-01  9.83941212e-01]\n",
      " [ 3.13372169e-01  4.57932261e-01]\n",
      " [ 2.08265101e+00  1.88169079e+00]\n",
      " [ 1.44536910e+00  9.81187240e-01]\n",
      " [ 1.12206435e+00  1.04245106e+00]\n",
      " [ 1.05330313e+00 -9.87981318e-01]\n",
      " [-7.88199063e-01 -1.41881671e+00]\n",
      " [ 1.84317740e+00  2.83480830e-01]\n",
      " [-5.50746873e-03  5.02594052e-01]\n",
      " [ 1.36657113e+00  8.06741281e-01]\n",
      " [ 1.40641390e+00  1.45952586e-01]\n",
      " [-3.16942248e-01 -2.07486046e+00]\n",
      " [ 1.00963198e+00  3.00778448e+00]\n",
      " [ 2.75759495e+00  4.48297485e+00]\n",
      " [ 1.02429950e+00  1.41480693e+00]\n",
      " [-1.08559680e-01 -1.68935079e+00]\n",
      " [ 2.35461781e+00  3.78209234e+00]\n",
      " [ 8.28361759e-01 -1.25835096e-01]\n",
      " [-1.47331969e-01 -1.23415495e+00]\n",
      " [-1.07955266e+00 -2.66853085e+00]\n",
      " [-1.14647305e-01  1.34935089e-01]\n",
      " [-2.03051422e-01 -1.57537930e+00]\n",
      " [ 6.95201817e-01  7.26803469e-01]\n",
      " [ 4.01151149e-01  1.99651902e+00]\n",
      " [ 3.58460605e-02 -1.05321634e+00]\n",
      " [ 7.88902878e-01 -1.51195405e+00]\n",
      " [ 6.82112075e-01 -1.77275027e+00]\n",
      " [ 1.57456805e+00  1.81175622e+00]\n",
      " [ 1.26534424e+00  1.65443673e+00]\n",
      " [ 6.86219937e-01  1.01981891e-01]\n",
      " [ 4.19617927e-01 -8.92531527e-01]\n",
      " [ 3.44046213e-01  9.30259739e-01]\n",
      " [ 1.13310659e+00  2.82790379e+00]\n",
      " [-1.38485792e+00 -3.34800916e+00]\n",
      " [ 2.64013030e+00  6.64596407e+00]\n",
      " [ 1.05245957e+00  1.80806815e-01]\n",
      " [ 2.96090352e+00  4.96931411e+00]\n",
      " [ 9.03228113e-01  8.17768025e-01]\n",
      " [ 4.06369227e-01 -2.70698691e+00]\n",
      " [ 5.77212800e-01  1.13399511e+00]\n",
      " [ 5.37008493e-01 -6.03838800e-01]\n",
      " [ 1.63379279e+00  1.54943832e+00]\n",
      " [ 1.54086585e+00  1.09533551e+00]\n",
      " [ 1.87210619e+00  2.46841489e+00]\n",
      " [ 6.41913512e-01  2.84760375e-01]\n",
      " [ 1.81600808e+00  2.85075560e+00]\n",
      " [ 9.25347599e-01 -5.56686433e-01]\n",
      " [ 2.59789200e+00  5.94131333e+00]\n",
      " [ 4.77573969e-01 -2.15993426e+00]\n",
      " [-5.26789395e-02 -2.16108802e+00]\n",
      " [ 2.37971596e+00  1.45995880e+00]\n",
      " [ 6.29321055e-01  7.83349338e-02]\n",
      " [ 8.77782158e-01  1.93415343e+00]\n",
      " [ 2.56712416e+00  4.79785912e+00]\n",
      " [ 7.63729788e-01  1.73426227e+00]\n",
      " [ 1.58503805e+00  1.51302359e+00]\n",
      " [ 1.16906626e+00  2.49429598e+00]\n",
      " [ 8.89563131e-02  4.31238458e-01]\n",
      " [-5.08412295e-03 -3.02525521e+00]\n",
      " [ 1.01264036e+00  1.36266513e+00]\n",
      " [ 3.11430140e-03  5.20489195e-01]\n",
      " [ 1.50576750e+00  4.74765235e+00]\n",
      " [ 2.22546729e+00  2.44554379e+00]\n",
      " [ 7.27617600e-01 -1.96078807e+00]\n",
      " [ 5.59285518e-01  1.84561047e+00]\n",
      " [ 8.63480948e-01 -1.81444234e+00]\n",
      " [ 7.21842038e-01 -6.81192138e-01]\n",
      " [ 6.08673881e-01 -1.03079319e+00]\n",
      " [ 1.15561818e+00 -2.38004750e-01]\n",
      " [ 9.83196072e-01  1.58764702e-01]\n",
      " [ 8.85266030e-01  2.03990537e+00]\n",
      " [ 1.03838919e+00  3.17958620e+00]\n",
      " [ 5.62372653e-01 -2.47047138e-01]\n",
      " [-1.21630906e+00 -1.37672940e+00]\n",
      " [ 4.72714672e-01  4.70019602e-01]\n",
      " [ 2.62162325e+00  2.64629411e+00]\n",
      " [ 4.12523081e-01 -2.36360962e+00]\n",
      " [ 1.08441888e+00  4.58564670e+00]\n",
      " [ 2.09480325e+00  2.32518493e+00]\n",
      " [ 1.17449251e+00  3.90531854e-01]\n",
      " [-4.03490459e-02  6.52220788e-01]\n",
      " [ 8.65805523e-01  5.49253442e-01]\n",
      " [ 1.44863581e+00  1.71783280e+00]\n",
      " [-1.25321477e+00 -6.55755041e+00]\n",
      " [ 8.92554587e-01  1.48531694e+00]\n",
      " [ 1.84273465e+00  4.94054140e-01]\n",
      " [ 8.71325734e-01  1.64051167e+00]\n",
      " [ 2.87899163e-01 -2.03572338e+00]]\n"
     ]
    }
   ],
   "source": [
    "X_in = np.random.multivariate_normal([1, 1], [[1,1.5], [1.5, 4]], n_in)\n",
    "print(X_in)"
   ]
  },
  {
   "cell_type": "code",
   "execution_count": 48,
   "metadata": {},
   "outputs": [
    {
     "name": "stdout",
     "output_type": "stream",
     "text": [
      "[[ 1.48855392 29.2724119 ]\n",
      " [ 3.00430945 30.45280405]\n",
      " [ 2.42742746 30.35403254]\n",
      " [ 2.35368261 29.6661473 ]\n",
      " [ 2.86706625 30.14852255]\n",
      " [ 2.12416984 29.97942188]\n",
      " [ 3.0178183  30.10431685]\n",
      " [ 2.89096683 29.97056258]\n",
      " [ 2.43876986 29.443472  ]\n",
      " [ 2.70580074 29.80678917]]\n"
     ]
    }
   ],
   "source": [
    "X_out = np.random.multivariate_normal([2.5, 30], [[0.1, 0], [0, 0.1]], n_out)\n",
    "print(X_out)"
   ]
  },
  {
   "cell_type": "code",
   "execution_count": 49,
   "metadata": {},
   "outputs": [
    {
     "name": "stdout",
     "output_type": "stream",
     "text": [
      "[[ 1.05213949e+00  1.47765287e+00]\n",
      " [ 2.85250255e-01 -1.86165314e+00]\n",
      " [ 1.52196360e+00  1.45614464e+00]\n",
      " [ 9.53976397e-01  4.24680850e-01]\n",
      " [ 2.22974714e+00  2.74729105e+00]\n",
      " [ 1.45524778e-01 -7.35485855e-01]\n",
      " [-1.92660059e-01 -7.69199019e-01]\n",
      " [ 2.75131905e+00  2.31537388e+00]\n",
      " [ 1.11649273e+00  3.57347341e+00]\n",
      " [ 1.60588363e+00  8.48396948e-01]\n",
      " [ 2.00069040e+00  1.98110943e+00]\n",
      " [ 7.12913648e-01  1.98386206e+00]\n",
      " [ 1.12864890e+00  1.38119085e+00]\n",
      " [ 3.23797111e-01  8.51357444e-01]\n",
      " [ 9.52746035e-01  9.05083198e-01]\n",
      " [ 2.51763529e+00  1.09897718e+00]\n",
      " [ 2.50541081e+00  3.54087575e+00]\n",
      " [ 1.17128601e+00 -2.64920495e-01]\n",
      " [ 1.13181795e+00  2.82393082e+00]\n",
      " [ 1.05215763e-01 -5.00724972e-01]\n",
      " [ 2.21031786e+00  2.58562615e+00]\n",
      " [ 3.73927021e-01  9.38013406e-01]\n",
      " [ 6.55928448e-01 -2.63337261e-01]\n",
      " [ 5.46979400e-02 -5.37700405e-01]\n",
      " [ 6.11866548e-01  1.52874209e+00]\n",
      " [ 6.74759837e-01  3.55354386e-01]\n",
      " [ 2.64871166e+00  5.25873864e+00]\n",
      " [ 7.69975787e-01 -5.63727883e-01]\n",
      " [-4.44959228e-01  2.34576078e-01]\n",
      " [ 1.02832459e+00  3.86895965e+00]\n",
      " [ 1.24809396e+00  2.49728471e+00]\n",
      " [ 1.70932612e+00  1.38136089e+00]\n",
      " [ 1.51223488e+00  9.40781772e-01]\n",
      " [ 3.44643382e-02 -2.54748283e-01]\n",
      " [ 7.68327694e-01  1.93464263e+00]\n",
      " [ 1.84310590e+00  2.92909893e+00]\n",
      " [ 1.59547908e+00  6.18921111e-01]\n",
      " [ 1.66421012e+00  2.96684084e+00]\n",
      " [ 1.40984292e+00  1.68875798e+00]\n",
      " [ 1.00629527e+00  1.87104626e+00]\n",
      " [ 1.21216179e+00 -2.38443515e-01]\n",
      " [ 2.80419514e+00  2.64493172e+00]\n",
      " [ 9.54485452e-01 -7.81223535e-02]\n",
      " [-1.41483844e+00 -2.46836980e+00]\n",
      " [ 1.72117634e+00  1.31002397e+00]\n",
      " [ 4.46748243e-01  8.41630994e-01]\n",
      " [ 6.55369324e-01 -1.66047733e+00]\n",
      " [ 4.14464341e-01  4.60894490e-01]\n",
      " [ 1.21180619e+00  4.11473644e+00]\n",
      " [ 6.16460154e-01  1.86318087e+00]\n",
      " [ 1.54500890e+00  6.79218457e-01]\n",
      " [ 1.93661548e+00  1.99925909e+00]\n",
      " [ 1.29585937e+00  1.26444001e+00]\n",
      " [ 2.01433147e+00  9.43630213e-01]\n",
      " [ 1.36769745e+00  4.65997404e+00]\n",
      " [ 1.29225002e+00  1.33344403e+00]\n",
      " [ 1.26403750e+00 -7.70485065e-01]\n",
      " [ 1.99471959e+00  3.00950847e+00]\n",
      " [ 2.24039306e-01  2.87250839e+00]\n",
      " [-7.73824579e-01 -5.23115642e-01]\n",
      " [ 1.02919436e+00  9.79954731e-01]\n",
      " [ 1.13984554e+00 -7.91556266e-01]\n",
      " [ 3.58159166e-01  2.68654915e-01]\n",
      " [ 1.92851565e+00  1.44218275e+00]\n",
      " [ 2.00217223e+00  2.44054254e+00]\n",
      " [ 2.34564122e-02 -1.63175653e-02]\n",
      " [ 8.94690133e-01 -1.10734531e+00]\n",
      " [ 5.74519746e-01 -5.07689635e-01]\n",
      " [-1.82712125e-01 -3.28385555e+00]\n",
      " [ 1.39621050e+00  1.50190517e+00]\n",
      " [ 5.90722800e-01 -1.92539081e+00]\n",
      " [ 9.64881037e-01  1.44746508e+00]\n",
      " [ 2.81220715e-01 -1.33350601e+00]\n",
      " [-1.71295693e-01 -5.51914972e-01]\n",
      " [ 2.02758501e-01  5.88474728e-01]\n",
      " [-2.55980814e-02  1.93277059e+00]\n",
      " [ 1.60886768e+00 -9.15097495e-01]\n",
      " [ 1.61531703e+00  3.53584145e+00]\n",
      " [ 3.10641374e-01 -6.38842140e-02]\n",
      " [ 1.30967650e+00  4.42909690e+00]\n",
      " [-2.18250065e-01 -1.47625535e+00]\n",
      " [ 7.59535514e-01  2.54385503e-01]\n",
      " [-6.97406268e-02 -8.30940165e-01]\n",
      " [ 1.11139841e+00  3.16573330e-01]\n",
      " [ 8.03276724e-01  6.06454254e-01]\n",
      " [ 1.48263283e+00  9.74042395e-01]\n",
      " [ 5.97259319e-01  1.14361097e+00]\n",
      " [ 1.04242269e+00  1.38695521e+00]\n",
      " [ 4.19866760e-01  6.92317257e-01]\n",
      " [ 1.27636888e+00  1.02731710e+00]\n",
      " [ 6.27402664e-01  6.79187733e-01]\n",
      " [ 1.37567177e+00  1.34688668e+00]\n",
      " [ 1.19696302e+00  1.69865630e+00]\n",
      " [ 6.28504372e-01 -1.35396907e+00]\n",
      " [ 1.86258637e+00  1.80795392e-02]\n",
      " [ 1.54255351e+00 -1.73802002e-01]\n",
      " [-5.88812908e-01 -4.80379648e+00]\n",
      " [ 9.79492357e-01  1.38665182e+00]\n",
      " [-8.25536660e-01 -2.16201325e+00]\n",
      " [ 1.43341346e-01 -1.19578445e+00]\n",
      " [ 1.64783657e+00  7.06613086e-01]\n",
      " [ 4.36217095e-01  9.62459113e-02]\n",
      " [-1.65747425e-01 -2.75431915e+00]\n",
      " [ 2.00144853e+00  4.46520351e+00]\n",
      " [ 8.11017164e-01 -1.32945075e+00]\n",
      " [ 1.00633053e+00  1.91754815e-01]\n",
      " [ 7.66102475e-01  1.18141404e+00]\n",
      " [ 1.12757271e+00 -9.88377473e-01]\n",
      " [ 2.07013746e+00  5.13518812e-01]\n",
      " [ 1.24916279e+00  2.33162273e+00]\n",
      " [ 7.85320286e-01  1.89446081e-01]\n",
      " [ 5.72302538e-01  9.41046835e-01]\n",
      " [ 5.66439307e-01  9.83941212e-01]\n",
      " [ 3.13372169e-01  4.57932261e-01]\n",
      " [ 2.08265101e+00  1.88169079e+00]\n",
      " [ 1.44536910e+00  9.81187240e-01]\n",
      " [ 1.12206435e+00  1.04245106e+00]\n",
      " [ 1.05330313e+00 -9.87981318e-01]\n",
      " [-7.88199063e-01 -1.41881671e+00]\n",
      " [ 1.84317740e+00  2.83480830e-01]\n",
      " [-5.50746873e-03  5.02594052e-01]\n",
      " [ 1.36657113e+00  8.06741281e-01]\n",
      " [ 1.40641390e+00  1.45952586e-01]\n",
      " [-3.16942248e-01 -2.07486046e+00]\n",
      " [ 1.00963198e+00  3.00778448e+00]\n",
      " [ 2.75759495e+00  4.48297485e+00]\n",
      " [ 1.02429950e+00  1.41480693e+00]\n",
      " [-1.08559680e-01 -1.68935079e+00]\n",
      " [ 2.35461781e+00  3.78209234e+00]\n",
      " [ 8.28361759e-01 -1.25835096e-01]\n",
      " [-1.47331969e-01 -1.23415495e+00]\n",
      " [-1.07955266e+00 -2.66853085e+00]\n",
      " [-1.14647305e-01  1.34935089e-01]\n",
      " [-2.03051422e-01 -1.57537930e+00]\n",
      " [ 6.95201817e-01  7.26803469e-01]\n",
      " [ 4.01151149e-01  1.99651902e+00]\n",
      " [ 3.58460605e-02 -1.05321634e+00]\n",
      " [ 7.88902878e-01 -1.51195405e+00]\n",
      " [ 6.82112075e-01 -1.77275027e+00]\n",
      " [ 1.57456805e+00  1.81175622e+00]\n",
      " [ 1.26534424e+00  1.65443673e+00]\n",
      " [ 6.86219937e-01  1.01981891e-01]\n",
      " [ 4.19617927e-01 -8.92531527e-01]\n",
      " [ 3.44046213e-01  9.30259739e-01]\n",
      " [ 1.13310659e+00  2.82790379e+00]\n",
      " [-1.38485792e+00 -3.34800916e+00]\n",
      " [ 2.64013030e+00  6.64596407e+00]\n",
      " [ 1.05245957e+00  1.80806815e-01]\n",
      " [ 2.96090352e+00  4.96931411e+00]\n",
      " [ 9.03228113e-01  8.17768025e-01]\n",
      " [ 4.06369227e-01 -2.70698691e+00]\n",
      " [ 5.77212800e-01  1.13399511e+00]\n",
      " [ 5.37008493e-01 -6.03838800e-01]\n",
      " [ 1.63379279e+00  1.54943832e+00]\n",
      " [ 1.54086585e+00  1.09533551e+00]\n",
      " [ 1.87210619e+00  2.46841489e+00]\n",
      " [ 6.41913512e-01  2.84760375e-01]\n",
      " [ 1.81600808e+00  2.85075560e+00]\n",
      " [ 9.25347599e-01 -5.56686433e-01]\n",
      " [ 2.59789200e+00  5.94131333e+00]\n",
      " [ 4.77573969e-01 -2.15993426e+00]\n",
      " [-5.26789395e-02 -2.16108802e+00]\n",
      " [ 2.37971596e+00  1.45995880e+00]\n",
      " [ 6.29321055e-01  7.83349338e-02]\n",
      " [ 8.77782158e-01  1.93415343e+00]\n",
      " [ 2.56712416e+00  4.79785912e+00]\n",
      " [ 7.63729788e-01  1.73426227e+00]\n",
      " [ 1.58503805e+00  1.51302359e+00]\n",
      " [ 1.16906626e+00  2.49429598e+00]\n",
      " [ 8.89563131e-02  4.31238458e-01]\n",
      " [-5.08412295e-03 -3.02525521e+00]\n",
      " [ 1.01264036e+00  1.36266513e+00]\n",
      " [ 3.11430140e-03  5.20489195e-01]\n",
      " [ 1.50576750e+00  4.74765235e+00]\n",
      " [ 2.22546729e+00  2.44554379e+00]\n",
      " [ 7.27617600e-01 -1.96078807e+00]\n",
      " [ 5.59285518e-01  1.84561047e+00]\n",
      " [ 8.63480948e-01 -1.81444234e+00]\n",
      " [ 7.21842038e-01 -6.81192138e-01]\n",
      " [ 6.08673881e-01 -1.03079319e+00]\n",
      " [ 1.15561818e+00 -2.38004750e-01]\n",
      " [ 9.83196072e-01  1.58764702e-01]\n",
      " [ 8.85266030e-01  2.03990537e+00]\n",
      " [ 1.03838919e+00  3.17958620e+00]\n",
      " [ 5.62372653e-01 -2.47047138e-01]\n",
      " [-1.21630906e+00 -1.37672940e+00]\n",
      " [ 4.72714672e-01  4.70019602e-01]\n",
      " [ 2.62162325e+00  2.64629411e+00]\n",
      " [ 4.12523081e-01 -2.36360962e+00]\n",
      " [ 1.08441888e+00  4.58564670e+00]\n",
      " [ 2.09480325e+00  2.32518493e+00]\n",
      " [ 1.17449251e+00  3.90531854e-01]\n",
      " [-4.03490459e-02  6.52220788e-01]\n",
      " [ 8.65805523e-01  5.49253442e-01]\n",
      " [ 1.44863581e+00  1.71783280e+00]\n",
      " [-1.25321477e+00 -6.55755041e+00]\n",
      " [ 8.92554587e-01  1.48531694e+00]\n",
      " [ 1.84273465e+00  4.94054140e-01]\n",
      " [ 8.71325734e-01  1.64051167e+00]\n",
      " [ 2.87899163e-01 -2.03572338e+00]\n",
      " [ 1.48855392e+00  2.92724119e+01]\n",
      " [ 3.00430945e+00  3.04528040e+01]\n",
      " [ 2.42742746e+00  3.03540325e+01]\n",
      " [ 2.35368261e+00  2.96661473e+01]\n",
      " [ 2.86706625e+00  3.01485226e+01]\n",
      " [ 2.12416984e+00  2.99794219e+01]\n",
      " [ 3.01781830e+00  3.01043168e+01]\n",
      " [ 2.89096683e+00  2.99705626e+01]\n",
      " [ 2.43876986e+00  2.94434720e+01]\n",
      " [ 2.70580074e+00  2.98067892e+01]]\n"
     ]
    }
   ],
   "source": [
    "X = np.vstack((X_in, X_out))\n",
    "print(X)"
   ]
  },
  {
   "cell_type": "code",
   "execution_count": 50,
   "metadata": {},
   "outputs": [],
   "source": [
    "x, y = X[:,0].reshape(-1, 1), X[:, 1]"
   ]
  },
  {
   "cell_type": "code",
   "execution_count": 51,
   "metadata": {},
   "outputs": [],
   "source": [
    "x_train, x_test, y_train, y_test = train_test_split(x, y, test_size = 0.4)"
   ]
  },
  {
   "cell_type": "code",
   "execution_count": 52,
   "metadata": {},
   "outputs": [
    {
     "data": {
      "text/plain": [
       "<matplotlib.collections.PathCollection at 0x2380da359d0>"
      ]
     },
     "execution_count": 52,
     "metadata": {},
     "output_type": "execute_result"
    },
    {
     "data": {
      "image/png": "[encoded data removed]",
      "text/plain": [
       "<Figure size 432x288 with 1 Axes>"
      ]
     },
     "metadata": {
      "needs_background": "light"
     },
     "output_type": "display_data"
    }
   ],
   "source": [
    "#plot data\n",
    "plt.figure()\n",
    "plt.scatter(x_train, y_train,4, color = 'b')\n",
    "plt.scatter(x_test, y_test,4, color = 'r')\n"
   ]
  },
  {
   "cell_type": "code",
   "execution_count": 53,
   "metadata": {},
   "outputs": [
    {
     "data": {
      "text/plain": [
       "[<matplotlib.lines.Line2D at 0x2380da76730>,\n",
       " <matplotlib.lines.Line2D at 0x2380da769d0>]"
      ]
     },
     "execution_count": 53,
     "metadata": {},
     "output_type": "execute_result"
    },
    {
     "data": {
      "image/png": "[encoded data removed]",
      "text/plain": [
       "<Figure size 432x288 with 1 Axes>"
      ]
     },
     "metadata": {
      "needs_background": "light"
     },
     "output_type": "display_data"
    }
   ],
   "source": [
    "#fit OLS\n",
    "X_train, X_test = sm.add_constant(x_train), sm.add_constant(x_test)\n",
    "#print(X_test)\n",
    "model_ols = sm.OLS(y_train, X_train).fit()\n",
    "#предсказанные y\n",
    "y_train_pred = model_ols.predict(X_train)\n",
    "y_test_pred = model_ols.predict(X_test)\n",
    "\n",
    "x_grid = np.linspace(np.min(x), np.max(x), 1000).reshape(-1, 1)\n",
    "X_grid = sm.add_constant(x_grid)\n",
    "y_pred = model_ols.predict(X_grid)\n",
    "\n",
    "plt.figure()\n",
    "plt.scatter(x_train, y_train,4, color = 'b')\n",
    "plt.scatter(x_test, y_test,4, color = 'g')\n",
    "plt.plot(x_grid, y_pred, 4, color = 'r')\n",
    "\n",
    "\n"
   ]
  },
  {
   "cell_type": "markdown",
   "metadata": {},
   "source": [
    "НЕ правильный график"
   ]
  },
  {
   "cell_type": "code",
   "execution_count": 54,
   "metadata": {},
   "outputs": [
    {
     "name": "stdout",
     "output_type": "stream",
     "text": [
      "                            OLS Regression Results                            \n",
      "==============================================================================\n",
      "Dep. Variable:                      y   R-squared:                       0.277\n",
      "Model:                            OLS   Adj. R-squared:                  0.271\n",
      "Method:                 Least Squares   F-statistic:                     47.40\n",
      "Date:                Sun, 06 Aug 2023   Prob (F-statistic):           2.57e-10\n",
      "Time:                        12:48:31   Log-Likelihood:                -369.97\n",
      "No. Observations:                 126   AIC:                             743.9\n",
      "Df Residuals:                     124   BIC:                             749.6\n",
      "Df Model:                           1                                         \n",
      "Covariance Type:            nonrobust                                         \n",
      "==============================================================================\n",
      "                 coef    std err          t      P>|t|      [0.025      0.975]\n",
      "------------------------------------------------------------------------------\n",
      "const         -1.4048      0.630     -2.232      0.027      -2.651      -0.159\n",
      "x1             3.3022      0.480      6.884      0.000       2.353       4.252\n",
      "==============================================================================\n",
      "Omnibus:                      130.837   Durbin-Watson:                   2.040\n",
      "Prob(Omnibus):                  0.000   Jarque-Bera (JB):             1765.611\n",
      "Skew:                           3.810   Prob(JB):                         0.00\n",
      "Kurtosis:                      19.681   Cond. No.                         2.84\n",
      "==============================================================================\n",
      "\n",
      "Warnings:\n",
      "[1] Standard Errors assume that the covariance matrix of the errors is correctly specified.\n"
     ]
    }
   ],
   "source": [
    "print(model_ols.summary())"
   ]
  },
  {
   "cell_type": "code",
   "execution_count": 55,
   "metadata": {},
   "outputs": [
    {
     "name": "stdout",
     "output_type": "stream",
     "text": [
      "R^2 on training set:0.27652511939863567\n",
      "R^2 on test set:0.3102703864064942\n"
     ]
    }
   ],
   "source": [
    "#остатки\n",
    "e_train = y_train - y_train_pred\n",
    "d_resid = np.sum((e_train - np.mean(e_train))**2)/len(e_train)\n",
    "\n",
    "R2_train = 1 - d_resid/np.var(y_train)\n",
    "\n",
    "e_test = y_test - y_test_pred\n",
    "d_resid = np.sum((e_test - np.mean(e_test))**2)/len(e_test)\n",
    "R2_test = 1 - d_resid/np.var(y_test)\n",
    "\n",
    "print(f\"R^2 on training set:{R2_train}\")\n",
    "print(f\"R^2 on test set:{R2_test}\")\n"
   ]
  },
  {
   "cell_type": "code",
   "execution_count": 57,
   "metadata": {},
   "outputs": [
    {
     "data": {
      "text/plain": [
       "(array([ 5.,  4., 23., 21., 25., 29., 10.,  4.,  1.,  0.,  0.,  0.,  0.,\n",
       "         0.,  0.,  0.,  0.,  0.,  0.,  0.,  0.,  0.,  2.,  1.,  1.]),\n",
       " array([-5.8098681 , -4.60267854, -3.39548897, -2.18829941, -0.98110984,\n",
       "         0.22607972,  1.43326929,  2.64045885,  3.84764842,  5.05483798,\n",
       "         6.26202755,  7.46921711,  8.67640668,  9.88359624, 11.09078581,\n",
       "        12.29797537, 13.50516494, 14.7123545 , 15.91954407, 17.12673363,\n",
       "        18.3339232 , 19.54111276, 20.74830233, 21.95549189, 23.16268146,\n",
       "        24.36987102]),\n",
       " <a list of 25 Patch objects>)"
      ]
     },
     "execution_count": 57,
     "metadata": {},
     "output_type": "execute_result"
    },
    {
     "data": {
      "image/png": "[encoded data removed]",
      "text/plain": [
       "<Figure size 432x288 with 1 Axes>"
      ]
     },
     "metadata": {
      "needs_background": "light"
     },
     "output_type": "display_data"
    },
    {
     "data": {
      "image/png": "[encoded data removed]",
      "text/plain": [
       "<Figure size 432x288 with 1 Axes>"
      ]
     },
     "metadata": {
      "needs_background": "light"
     },
     "output_type": "display_data"
    }
   ],
   "source": [
    "#plot residulas\n",
    "plt.figure()\n",
    "plt.scatter(x_train, e_train,4, color = 'b')\n",
    "plt.grid()\n",
    "\n",
    "plt.figure()\n",
    "plt.hist(e_train, bins = 25)\n",
    "\n"
   ]
  },
  {
   "cell_type": "code",
   "execution_count": 58,
   "metadata": {},
   "outputs": [
    {
     "data": {
      "text/plain": [
       "Text(0.5, 1.0, 'robust')"
      ]
     },
     "execution_count": 58,
     "metadata": {},
     "output_type": "execute_result"
    },
    {
     "data": {
      "image/png": "[encoded data removed]",
      "text/plain": [
       "<Figure size 432x288 with 1 Axes>"
      ]
     },
     "metadata": {
      "needs_background": "light"
     },
     "output_type": "display_data"
    },
    {
     "data": {
      "image/png": "[encoded data removed]",
      "text/plain": [
       "<Figure size 432x288 with 1 Axes>"
      ]
     },
     "metadata": {
      "needs_background": "light"
     },
     "output_type": "display_data"
    }
   ],
   "source": [
    "#standart residulas\n",
    "H = X_train @ np.linalg.inv(X_train.T @ X_train) @ X_train.T\n",
    "h = np.diagonal(H)\n",
    "\n",
    "se = np.sqrt(model_ols.mse_resid)\n",
    "e_st = e_train/(se * np.sqrt(1 - h))\n",
    "\n",
    "plt.figure()\n",
    "plt.scatter(x_train, e_st, 4)\n",
    "plt.grid()\n",
    "plt.title(\"Non-robust\")\n",
    "\n",
    "se_robust = np.median(np.abs(e_train))/0.675\n",
    "e_st_robust = e_train/(se_robust * np.sqrt(1 - h))\n",
    "\n",
    "plt.figure()\n",
    "plt.scatter(x_train, e_st_robust, 4)\n",
    "plt.grid()\n",
    "plt.title(\"robust\")\n",
    "\n",
    "\n"
   ]
  },
  {
   "cell_type": "code",
   "execution_count": 59,
   "metadata": {},
   "outputs": [
    {
     "data": {
      "image/png": "[encoded data removed]",
      "text/plain": [
       "<Figure size 432x288 with 1 Axes>"
      ]
     },
     "metadata": {
      "needs_background": "light"
     },
     "output_type": "display_data"
    }
   ],
   "source": [
    "#weight\n",
    "\n",
    "cb = 4.685\n",
    "w = (1 - (e_st_robust/ cb) ** 2) ** 2\n",
    "w[np.abs(e_st_robust) >= cb] = 0\n",
    "\n",
    "plt.figure()\n",
    "plt.scatter(x_train, w, 4)\n",
    "plt.grid()\n",
    "plt.sh"
   ]
  },
  {
   "cell_type": "code",
   "execution_count": 63,
   "metadata": {},
   "outputs": [
    {
     "data": {
      "image/png": "[encoded data removed]",
      "text/plain": [
       "<Figure size 432x288 with 1 Axes>"
      ]
     },
     "metadata": {
      "needs_background": "light"
     },
     "output_type": "display_data"
    }
   ],
   "source": [
    "model_wls = sm.WLS(y_train, X_train, weights = w).fit()\n",
    "y_train_pred = model_wls.predict(X_train)\n",
    "y_test_pred = model_wls.predict(X_test)\n",
    "\n",
    "\n",
    "y_wls_pred = model_wls.predict(X_grid)\n",
    "\n",
    "plt.figure()\n",
    "plt.scatter(x_train, y_train,4, color = 'b')\n",
    "plt.scatter(x_test, y_test,4, color = 'g')\n",
    "plt.plot(x_grid, y_pred,'--', color = 'r')\n",
    "plt.plot(x_grid, y_wls_pred, color = 'y')\n",
    "plt.grid()\n"
   ]
  },
  {
   "cell_type": "code",
   "execution_count": 64,
   "metadata": {},
   "outputs": [
    {
     "name": "stdout",
     "output_type": "stream",
     "text": [
      "                            WLS Regression Results                            \n",
      "==============================================================================\n",
      "Dep. Variable:                      y   R-squared:                       0.455\n",
      "Model:                            WLS   Adj. R-squared:                  0.451\n",
      "Method:                 Least Squares   F-statistic:                     103.5\n",
      "Date:                Sun, 06 Aug 2023   Prob (F-statistic):           4.74e-18\n",
      "Time:                        13:39:10   Log-Likelihood:                   -inf\n",
      "No. Observations:                 126   AIC:                               inf\n",
      "Df Residuals:                     124   BIC:                               inf\n",
      "Df Model:                           1                                         \n",
      "Covariance Type:            nonrobust                                         \n",
      "==============================================================================\n",
      "                 coef    std err          t      P>|t|      [0.025      0.975]\n",
      "------------------------------------------------------------------------------\n",
      "const         -0.4373      0.182     -2.406      0.018      -0.797      -0.078\n",
      "x1             1.5445      0.152     10.175      0.000       1.244       1.845\n",
      "==============================================================================\n",
      "Omnibus:                        2.005   Durbin-Watson:                   2.055\n",
      "Prob(Omnibus):                  0.367   Jarque-Bera (JB):                1.820\n",
      "Skew:                           0.294   Prob(JB):                        0.402\n",
      "Kurtosis:                       2.981   Cond. No.                         2.77\n",
      "==============================================================================\n",
      "\n",
      "Warnings:\n",
      "[1] Standard Errors assume that the covariance matrix of the errors is correctly specified.\n"
     ]
    },
    {
     "name": "stderr",
     "output_type": "stream",
     "text": [
      "C:\\Users\\42\\anaconda3\\lib\\site-packages\\statsmodels\\regression\\linear_model.py:762: RuntimeWarning: divide by zero encountered in log\n",
      "  llf += 0.5 * np.sum(np.log(self.weights))\n"
     ]
    }
   ],
   "source": [
    "print(model_wls.summary())"
   ]
  },
  {
   "cell_type": "code",
   "execution_count": null,
   "metadata": {},
   "outputs": [],
   "source": []
  }
 ],
 "metadata": {
  "kernelspec": {
   "display_name": "Python 3",
   "language": "python",
   "name": "python3"
  },
  "language_info": {
   "codemirror_mode": {
    "name": "ipython",
    "version": 3
   },
   "file_extension": ".py",
   "mimetype": "text/x-python",
   "name": "python",
   "nbconvert_exporter": "python",
   "pygments_lexer": "ipython3",
   "version": "3.11.5"
  }
 },
 "nbformat": 4,
 "nbformat_minor": 4
}
