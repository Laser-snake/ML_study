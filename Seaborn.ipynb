{
  "nbformat": 4,
  "nbformat_minor": 0,
  "metadata": {
    "colab": {
      "provenance": []
    },
    "kernelspec": {
      "name": "python3",
      "display_name": "Python 3"
    },
    "language_info": {
      "name": "python"
    }
  },
  "cells": [
    {
      "cell_type": "code",
      "execution_count": 57,
      "metadata": {
        "id": "J1WdPkrwExNS"
      },
      "outputs": [],
      "source": [
        "import pandas as pd\n",
        "import numpy as np\n",
        "import seaborn as sns\n",
        "from plotly import graph_objects as go\n",
        "from pandas import json_normalize"
      ]
    },
    {
      "cell_type": "code",
      "source": [
        "class Vacancies():\n",
        "  def load(self, text):\n",
        "    import requests\n",
        "    from pandas import DataFrame as df\n",
        "    from pandas import json_normalize\n",
        "\n",
        "    host = 'https://api.hh.ru/vacancies?per_page=100&search_field=name&only_with_salary=True'\n",
        "    tmp = df()\n",
        "    cols = ['id','name','area','salary','employment']\n",
        "    for i in range(2):\n",
        "      url = host + '&text={0}&page={1}'.format(text,str(i))\n",
        "      js = requests.get(url).json()['items']\n",
        "      if len(js)!=0:\n",
        "        tmp=tmp.append(df(js)[cols])\n",
        "      else:\n",
        "        break\n",
        "    tmp = tmp.join(json_normalize(tmp.salary))\n",
        "    tmp['area'] = json_normalize(tmp.area)[['name']]\n",
        "    tmp['employment'] = json_normalize(tmp.employment)[['name']]\n",
        "    tmp.drop(columns=['salary'],inplace = True)\n",
        "    self.df=tmp\n"
      ],
      "metadata": {
        "id": "t0qT-8OcWWxc"
      },
      "execution_count": 58,
      "outputs": []
    },
    {
      "cell_type": "code",
      "source": [
        "vac = Vacancies()"
      ],
      "metadata": {
        "id": "ZTPDWFFMj34J"
      },
      "execution_count": 59,
      "outputs": []
    },
    {
      "cell_type": "code",
      "source": [
        "vac.load('Аналитик')"
      ],
      "metadata": {
        "colab": {
          "base_uri": "https://localhost:8080/"
        },
        "id": "R5uNtZCOj6fp",
        "outputId": "fd79e41f-3ebc-42d5-b9a0-d59aa2d810a3"
      },
      "execution_count": 60,
      "outputs": [
        {
          "output_type": "stream",
          "name": "stderr",
          "text": [
            "<ipython-input-58-bca7137cfbf7>:14: FutureWarning: The frame.append method is deprecated and will be removed from pandas in a future version. Use pandas.concat instead.\n",
            "  tmp=tmp.append(df(js)[cols])\n",
            "<ipython-input-58-bca7137cfbf7>:14: FutureWarning: The frame.append method is deprecated and will be removed from pandas in a future version. Use pandas.concat instead.\n",
            "  tmp=tmp.append(df(js)[cols])\n"
          ]
        }
      ]
    },
    {
      "cell_type": "code",
      "source": [
        "vac.df"
      ],
      "metadata": {
        "colab": {
          "base_uri": "https://localhost:8080/",
          "height": 424
        },
        "id": "xuT8ob1nj-4z",
        "outputId": "fcb81dda-4c51-4f2a-a8de-be0464b04fc4"
      },
      "execution_count": 61,
      "outputs": [
        {
          "output_type": "execute_result",
          "data": {
            "text/plain": [
              "          id                                               name  \\\n",
              "0   85286523                              Младший аналитик (IT)   \n",
              "0   85257470                                    Аналитик данных   \n",
              "1   84449865  Ведущий аналитик информационно-аналитического ...   \n",
              "1   85197246                         Ведущий экономист-аналитик   \n",
              "2   84942188                                Junior Data Analyst   \n",
              "..       ...                                                ...   \n",
              "97  84671459              Аналитик отдела распределения заказов   \n",
              "98  85251352                    Аналитик второй линии поддержки   \n",
              "98  83837105                                Финансовый аналитик   \n",
              "99  85155633                                           Аналитик   \n",
              "99  85010330                        Старший финансовый аналитик   \n",
              "\n",
              "               area        employment      from        to currency  gross  \n",
              "0   Санкт-Петербург        Стажировка  100000.0  140000.0      RUR  False  \n",
              "0   Санкт-Петербург        Стажировка  100000.0  140000.0      RUR  False  \n",
              "1               Уфа  Полная занятость  150000.0       NaN      RUR   True  \n",
              "1               Уфа  Полная занятость  150000.0       NaN      RUR   True  \n",
              "2            Москва  Полная занятость       NaN  100000.0      RUR   True  \n",
              "..              ...               ...       ...       ...      ...    ...  \n",
              "97  Санкт-Петербург  Полная занятость   45000.0   55000.0      RUR  False  \n",
              "98  Санкт-Петербург  Полная занятость   75000.0       NaN      RUR  False  \n",
              "98  Санкт-Петербург  Полная занятость   75000.0       NaN      RUR  False  \n",
              "99           Бишкек  Полная занятость   80000.0       NaN      RUR  False  \n",
              "99           Бишкек  Полная занятость   80000.0       NaN      RUR  False  \n",
              "\n",
              "[200 rows x 8 columns]"
            ],
            "text/html": [
              "\n",
              "  <div id=\"df-73b19ff8-259a-4c71-bb70-f656c00c1ced\" class=\"colab-df-container\">\n",
              "    <div>\n",
              "<style scoped>\n",
              "    .dataframe tbody tr th:only-of-type {\n",
              "        vertical-align: middle;\n",
              "    }\n",
              "\n",
              "    .dataframe tbody tr th {\n",
              "        vertical-align: top;\n",
              "    }\n",
              "\n",
              "    .dataframe thead th {\n",
              "        text-align: right;\n",
              "    }\n",
              "</style>\n",
              "<table border=\"1\" class=\"dataframe\">\n",
              "  <thead>\n",
              "    <tr style=\"text-align: right;\">\n",
              "      <th></th>\n",
              "      <th>id</th>\n",
              "      <th>name</th>\n",
              "      <th>area</th>\n",
              "      <th>employment</th>\n",
              "      <th>from</th>\n",
              "      <th>to</th>\n",
              "      <th>currency</th>\n",
              "      <th>gross</th>\n",
              "    </tr>\n",
              "  </thead>\n",
              "  <tbody>\n",
              "    <tr>\n",
              "      <th>0</th>\n",
              "      <td>85286523</td>\n",
              "      <td>Младший аналитик (IT)</td>\n",
              "      <td>Санкт-Петербург</td>\n",
              "      <td>Стажировка</td>\n",
              "      <td>100000.0</td>\n",
              "      <td>140000.0</td>\n",
              "      <td>RUR</td>\n",
              "      <td>False</td>\n",
              "    </tr>\n",
              "    <tr>\n",
              "      <th>0</th>\n",
              "      <td>85257470</td>\n",
              "      <td>Аналитик данных</td>\n",
              "      <td>Санкт-Петербург</td>\n",
              "      <td>Стажировка</td>\n",
              "      <td>100000.0</td>\n",
              "      <td>140000.0</td>\n",
              "      <td>RUR</td>\n",
              "      <td>False</td>\n",
              "    </tr>\n",
              "    <tr>\n",
              "      <th>1</th>\n",
              "      <td>84449865</td>\n",
              "      <td>Ведущий аналитик информационно-аналитического ...</td>\n",
              "      <td>Уфа</td>\n",
              "      <td>Полная занятость</td>\n",
              "      <td>150000.0</td>\n",
              "      <td>NaN</td>\n",
              "      <td>RUR</td>\n",
              "      <td>True</td>\n",
              "    </tr>\n",
              "    <tr>\n",
              "      <th>1</th>\n",
              "      <td>85197246</td>\n",
              "      <td>Ведущий экономист-аналитик</td>\n",
              "      <td>Уфа</td>\n",
              "      <td>Полная занятость</td>\n",
              "      <td>150000.0</td>\n",
              "      <td>NaN</td>\n",
              "      <td>RUR</td>\n",
              "      <td>True</td>\n",
              "    </tr>\n",
              "    <tr>\n",
              "      <th>2</th>\n",
              "      <td>84942188</td>\n",
              "      <td>Junior Data Analyst</td>\n",
              "      <td>Москва</td>\n",
              "      <td>Полная занятость</td>\n",
              "      <td>NaN</td>\n",
              "      <td>100000.0</td>\n",
              "      <td>RUR</td>\n",
              "      <td>True</td>\n",
              "    </tr>\n",
              "    <tr>\n",
              "      <th>...</th>\n",
              "      <td>...</td>\n",
              "      <td>...</td>\n",
              "      <td>...</td>\n",
              "      <td>...</td>\n",
              "      <td>...</td>\n",
              "      <td>...</td>\n",
              "      <td>...</td>\n",
              "      <td>...</td>\n",
              "    </tr>\n",
              "    <tr>\n",
              "      <th>97</th>\n",
              "      <td>84671459</td>\n",
              "      <td>Аналитик отдела распределения заказов</td>\n",
              "      <td>Санкт-Петербург</td>\n",
              "      <td>Полная занятость</td>\n",
              "      <td>45000.0</td>\n",
              "      <td>55000.0</td>\n",
              "      <td>RUR</td>\n",
              "      <td>False</td>\n",
              "    </tr>\n",
              "    <tr>\n",
              "      <th>98</th>\n",
              "      <td>85251352</td>\n",
              "      <td>Аналитик второй линии поддержки</td>\n",
              "      <td>Санкт-Петербург</td>\n",
              "      <td>Полная занятость</td>\n",
              "      <td>75000.0</td>\n",
              "      <td>NaN</td>\n",
              "      <td>RUR</td>\n",
              "      <td>False</td>\n",
              "    </tr>\n",
              "    <tr>\n",
              "      <th>98</th>\n",
              "      <td>83837105</td>\n",
              "      <td>Финансовый аналитик</td>\n",
              "      <td>Санкт-Петербург</td>\n",
              "      <td>Полная занятость</td>\n",
              "      <td>75000.0</td>\n",
              "      <td>NaN</td>\n",
              "      <td>RUR</td>\n",
              "      <td>False</td>\n",
              "    </tr>\n",
              "    <tr>\n",
              "      <th>99</th>\n",
              "      <td>85155633</td>\n",
              "      <td>Аналитик</td>\n",
              "      <td>Бишкек</td>\n",
              "      <td>Полная занятость</td>\n",
              "      <td>80000.0</td>\n",
              "      <td>NaN</td>\n",
              "      <td>RUR</td>\n",
              "      <td>False</td>\n",
              "    </tr>\n",
              "    <tr>\n",
              "      <th>99</th>\n",
              "      <td>85010330</td>\n",
              "      <td>Старший финансовый аналитик</td>\n",
              "      <td>Бишкек</td>\n",
              "      <td>Полная занятость</td>\n",
              "      <td>80000.0</td>\n",
              "      <td>NaN</td>\n",
              "      <td>RUR</td>\n",
              "      <td>False</td>\n",
              "    </tr>\n",
              "  </tbody>\n",
              "</table>\n",
              "<p>200 rows × 8 columns</p>\n",
              "</div>\n",
              "    <div class=\"colab-df-buttons\">\n",
              "\n",
              "  <div class=\"colab-df-container\">\n",
              "    <button class=\"colab-df-convert\" onclick=\"convertToInteractive('df-73b19ff8-259a-4c71-bb70-f656c00c1ced')\"\n",
              "            title=\"Convert this dataframe to an interactive table.\"\n",
              "            style=\"display:none;\">\n",
              "\n",
              "  <svg xmlns=\"http://www.w3.org/2000/svg\" height=\"24px\" viewBox=\"0 -960 960 960\">\n",
              "    <path d=\"M120-120v-720h720v720H120Zm60-500h600v-160H180v160Zm220 220h160v-160H400v160Zm0 220h160v-160H400v160ZM180-400h160v-160H180v160Zm440 0h160v-160H620v160ZM180-180h160v-160H180v160Zm440 0h160v-160H620v160Z\"/>\n",
              "  </svg>\n",
              "    </button>\n",
              "\n",
              "  <style>\n",
              "    .colab-df-container {\n",
              "      display:flex;\n",
              "      gap: 12px;\n",
              "    }\n",
              "\n",
              "    .colab-df-convert {\n",
              "      background-color: #E8F0FE;\n",
              "      border: none;\n",
              "      border-radius: 50%;\n",
              "      cursor: pointer;\n",
              "      display: none;\n",
              "      fill: #1967D2;\n",
              "      height: 32px;\n",
              "      padding: 0 0 0 0;\n",
              "      width: 32px;\n",
              "    }\n",
              "\n",
              "    .colab-df-convert:hover {\n",
              "      background-color: #E2EBFA;\n",
              "      box-shadow: 0px 1px 2px rgba(60, 64, 67, 0.3), 0px 1px 3px 1px rgba(60, 64, 67, 0.15);\n",
              "      fill: #174EA6;\n",
              "    }\n",
              "\n",
              "    .colab-df-buttons div {\n",
              "      margin-bottom: 4px;\n",
              "    }\n",
              "\n",
              "    [theme=dark] .colab-df-convert {\n",
              "      background-color: #3B4455;\n",
              "      fill: #D2E3FC;\n",
              "    }\n",
              "\n",
              "    [theme=dark] .colab-df-convert:hover {\n",
              "      background-color: #434B5C;\n",
              "      box-shadow: 0px 1px 3px 1px rgba(0, 0, 0, 0.15);\n",
              "      filter: drop-shadow(0px 1px 2px rgba(0, 0, 0, 0.3));\n",
              "      fill: #FFFFFF;\n",
              "    }\n",
              "  </style>\n",
              "\n",
              "    <script>\n",
              "      const buttonEl =\n",
              "        document.querySelector('#df-73b19ff8-259a-4c71-bb70-f656c00c1ced button.colab-df-convert');\n",
              "      buttonEl.style.display =\n",
              "        google.colab.kernel.accessAllowed ? 'block' : 'none';\n",
              "\n",
              "      async function convertToInteractive(key) {\n",
              "        const element = document.querySelector('#df-73b19ff8-259a-4c71-bb70-f656c00c1ced');\n",
              "        const dataTable =\n",
              "          await google.colab.kernel.invokeFunction('convertToInteractive',\n",
              "                                                    [key], {});\n",
              "        if (!dataTable) return;\n",
              "\n",
              "        const docLinkHtml = 'Like what you see? Visit the ' +\n",
              "          '<a target=\"_blank\" href=https://colab.research.google.com/notebooks/data_table.ipynb>data table notebook</a>'\n",
              "          + ' to learn more about interactive tables.';\n",
              "        element.innerHTML = '';\n",
              "        dataTable['output_type'] = 'display_data';\n",
              "        await google.colab.output.renderOutput(dataTable, element);\n",
              "        const docLink = document.createElement('div');\n",
              "        docLink.innerHTML = docLinkHtml;\n",
              "        element.appendChild(docLink);\n",
              "      }\n",
              "    </script>\n",
              "  </div>\n",
              "\n",
              "\n",
              "<div id=\"df-b965cc42-d416-43af-9c78-4d0662de0932\">\n",
              "  <button class=\"colab-df-quickchart\" onclick=\"quickchart('df-b965cc42-d416-43af-9c78-4d0662de0932')\"\n",
              "            title=\"Suggest charts.\"\n",
              "            style=\"display:none;\">\n",
              "\n",
              "<svg xmlns=\"http://www.w3.org/2000/svg\" height=\"24px\"viewBox=\"0 0 24 24\"\n",
              "     width=\"24px\">\n",
              "    <g>\n",
              "        <path d=\"M19 3H5c-1.1 0-2 .9-2 2v14c0 1.1.9 2 2 2h14c1.1 0 2-.9 2-2V5c0-1.1-.9-2-2-2zM9 17H7v-7h2v7zm4 0h-2V7h2v10zm4 0h-2v-4h2v4z\"/>\n",
              "    </g>\n",
              "</svg>\n",
              "  </button>\n",
              "\n",
              "<style>\n",
              "  .colab-df-quickchart {\n",
              "    background-color: #E8F0FE;\n",
              "    border: none;\n",
              "    border-radius: 50%;\n",
              "    cursor: pointer;\n",
              "    display: none;\n",
              "    fill: #1967D2;\n",
              "    height: 32px;\n",
              "    padding: 0 0 0 0;\n",
              "    width: 32px;\n",
              "  }\n",
              "\n",
              "  .colab-df-quickchart:hover {\n",
              "    background-color: #E2EBFA;\n",
              "    box-shadow: 0px 1px 2px rgba(60, 64, 67, 0.3), 0px 1px 3px 1px rgba(60, 64, 67, 0.15);\n",
              "    fill: #174EA6;\n",
              "  }\n",
              "\n",
              "  [theme=dark] .colab-df-quickchart {\n",
              "    background-color: #3B4455;\n",
              "    fill: #D2E3FC;\n",
              "  }\n",
              "\n",
              "  [theme=dark] .colab-df-quickchart:hover {\n",
              "    background-color: #434B5C;\n",
              "    box-shadow: 0px 1px 3px 1px rgba(0, 0, 0, 0.15);\n",
              "    filter: drop-shadow(0px 1px 2px rgba(0, 0, 0, 0.3));\n",
              "    fill: #FFFFFF;\n",
              "  }\n",
              "</style>\n",
              "\n",
              "  <script>\n",
              "    async function quickchart(key) {\n",
              "      const charts = await google.colab.kernel.invokeFunction(\n",
              "          'suggestCharts', [key], {});\n",
              "    }\n",
              "    (() => {\n",
              "      let quickchartButtonEl =\n",
              "        document.querySelector('#df-b965cc42-d416-43af-9c78-4d0662de0932 button');\n",
              "      quickchartButtonEl.style.display =\n",
              "        google.colab.kernel.accessAllowed ? 'block' : 'none';\n",
              "    })();\n",
              "  </script>\n",
              "</div>\n",
              "    </div>\n",
              "  </div>\n"
            ]
          },
          "metadata": {},
          "execution_count": 61
        }
      ]
    },
    {
      "cell_type": "code",
      "source": [
        "class  Vacancies(Vacancies):\n",
        "  def salary_heatmap(self):\n",
        "    import seaborn as sns\n",
        "    tmp = self.df.groupby(['employment','currency'])['from'].mean().reset_index()\n",
        "    tmp=tmp.pivot(index='currency', columns='employment',values='from').fillna(0)\n",
        "    sns.heatmap(tmp)\n"
      ],
      "metadata": {
        "id": "BBStw0BSnpAJ"
      },
      "execution_count": 62,
      "outputs": []
    },
    {
      "cell_type": "code",
      "source": [
        "vac=Vacancies()"
      ],
      "metadata": {
        "id": "-z36_rY1npQx"
      },
      "execution_count": 63,
      "outputs": []
    },
    {
      "cell_type": "code",
      "source": [
        "vac.load('Аналитик')\n"
      ],
      "metadata": {
        "colab": {
          "base_uri": "https://localhost:8080/"
        },
        "id": "TVMK070npknF",
        "outputId": "4cc47bd5-3d6b-4992-f4ac-013d2500be5d"
      },
      "execution_count": 64,
      "outputs": [
        {
          "output_type": "stream",
          "name": "stderr",
          "text": [
            "<ipython-input-58-bca7137cfbf7>:14: FutureWarning: The frame.append method is deprecated and will be removed from pandas in a future version. Use pandas.concat instead.\n",
            "  tmp=tmp.append(df(js)[cols])\n",
            "<ipython-input-58-bca7137cfbf7>:14: FutureWarning: The frame.append method is deprecated and will be removed from pandas in a future version. Use pandas.concat instead.\n",
            "  tmp=tmp.append(df(js)[cols])\n"
          ]
        }
      ]
    },
    {
      "cell_type": "code",
      "source": [
        "vac.salary_heatmap()"
      ],
      "metadata": {
        "colab": {
          "base_uri": "https://localhost:8080/",
          "height": 596
        },
        "id": "WCSMiN7ppkqM",
        "outputId": "06a3a83c-d44d-4a79-98a9-e31531130b1b"
      },
      "execution_count": 65,
      "outputs": [
        {
          "output_type": "display_data",
          "data": {
            "text/plain": [
              "<Figure size 640x480 with 2 Axes>"
            ],
            "image/png": "[encoded data removed]"
          },
          "metadata": {}
        }
      ]
    },
    {
      "cell_type": "code",
      "source": [
        "class  Vacancies(Vacancies):\n",
        "  def salary_violin(self):\n",
        "    import seaborn as sns\n",
        "    sns.violinplot(self.df['currency'],self.df['to'])"
      ],
      "metadata": {
        "id": "jmWgmnd9pktY"
      },
      "execution_count": 66,
      "outputs": []
    },
    {
      "cell_type": "code",
      "source": [
        "vac=Vacancies()\n",
        "vac.load('Бухгалтер')\n",
        "vac.salary_violin()"
      ],
      "metadata": {
        "colab": {
          "base_uri": "https://localhost:8080/",
          "height": 386
        },
        "id": "IrsvqHn7pkwb",
        "outputId": "20d94e10-7700-4313-9ac5-c0799e9669bd"
      },
      "execution_count": 68,
      "outputs": [
        {
          "output_type": "stream",
          "name": "stderr",
          "text": [
            "<ipython-input-58-bca7137cfbf7>:14: FutureWarning: The frame.append method is deprecated and will be removed from pandas in a future version. Use pandas.concat instead.\n",
            "  tmp=tmp.append(df(js)[cols])\n",
            "<ipython-input-58-bca7137cfbf7>:14: FutureWarning: The frame.append method is deprecated and will be removed from pandas in a future version. Use pandas.concat instead.\n",
            "  tmp=tmp.append(df(js)[cols])\n"
          ]
        },
        {
          "output_type": "error",
          "ename": "TypeError",
          "evalue": "ignored",
          "traceback": [
            "\u001b[0;31m---------------------------------------------------------------------------\u001b[0m",
            "\u001b[0;31mTypeError\u001b[0m                                 Traceback (most recent call last)",
            "\u001b[0;32m<ipython-input-68-9f5cecde3844>\u001b[0m in \u001b[0;36m<cell line: 3>\u001b[0;34m()\u001b[0m\n\u001b[1;32m      1\u001b[0m \u001b[0mvac\u001b[0m\u001b[0;34m=\u001b[0m\u001b[0mVacancies\u001b[0m\u001b[0;34m(\u001b[0m\u001b[0;34m)\u001b[0m\u001b[0;34m\u001b[0m\u001b[0;34m\u001b[0m\u001b[0m\n\u001b[1;32m      2\u001b[0m \u001b[0mvac\u001b[0m\u001b[0;34m.\u001b[0m\u001b[0mload\u001b[0m\u001b[0;34m(\u001b[0m\u001b[0;34m'Бухгалтер'\u001b[0m\u001b[0;34m)\u001b[0m\u001b[0;34m\u001b[0m\u001b[0;34m\u001b[0m\u001b[0m\n\u001b[0;32m----> 3\u001b[0;31m \u001b[0mvac\u001b[0m\u001b[0;34m.\u001b[0m\u001b[0msalary_violin\u001b[0m\u001b[0;34m(\u001b[0m\u001b[0;34m)\u001b[0m\u001b[0;34m\u001b[0m\u001b[0;34m\u001b[0m\u001b[0m\n\u001b[0m",
            "\u001b[0;32m<ipython-input-66-6dde1b355e9d>\u001b[0m in \u001b[0;36msalary_violin\u001b[0;34m(self)\u001b[0m\n\u001b[1;32m      2\u001b[0m   \u001b[0;32mdef\u001b[0m \u001b[0msalary_violin\u001b[0m\u001b[0;34m(\u001b[0m\u001b[0mself\u001b[0m\u001b[0;34m)\u001b[0m\u001b[0;34m:\u001b[0m\u001b[0;34m\u001b[0m\u001b[0;34m\u001b[0m\u001b[0m\n\u001b[1;32m      3\u001b[0m     \u001b[0;32mimport\u001b[0m \u001b[0mseaborn\u001b[0m \u001b[0;32mas\u001b[0m \u001b[0msns\u001b[0m\u001b[0;34m\u001b[0m\u001b[0;34m\u001b[0m\u001b[0m\n\u001b[0;32m----> 4\u001b[0;31m     \u001b[0msns\u001b[0m\u001b[0;34m.\u001b[0m\u001b[0mviolinplot\u001b[0m\u001b[0;34m(\u001b[0m\u001b[0mself\u001b[0m\u001b[0;34m.\u001b[0m\u001b[0mdf\u001b[0m\u001b[0;34m[\u001b[0m\u001b[0;34m'currency'\u001b[0m\u001b[0;34m]\u001b[0m\u001b[0;34m,\u001b[0m\u001b[0mself\u001b[0m\u001b[0;34m.\u001b[0m\u001b[0mdf\u001b[0m\u001b[0;34m[\u001b[0m\u001b[0;34m'to'\u001b[0m\u001b[0;34m]\u001b[0m\u001b[0;34m)\u001b[0m\u001b[0;34m\u001b[0m\u001b[0;34m\u001b[0m\u001b[0m\n\u001b[0m",
            "\u001b[0;31mTypeError\u001b[0m: violinplot() takes from 0 to 1 positional arguments but 2 were given"
          ]
        }
      ]
    },
    {
      "cell_type": "code",
      "source": [
        "vac.salary_heatmap()"
      ],
      "metadata": {
        "colab": {
          "base_uri": "https://localhost:8080/",
          "height": 465
        },
        "id": "0VTtIj-qlQxu",
        "outputId": "635b5f92-c9cd-47b0-bddd-180984ab6a25"
      },
      "execution_count": 69,
      "outputs": [
        {
          "output_type": "display_data",
          "data": {
            "text/plain": [
              "<Figure size 640x480 with 2 Axes>"
            ],
            "image/png": "[encoded data removed]"
          },
          "metadata": {}
        }
      ]
    },
    {
      "cell_type": "code",
      "source": [
        "class  Vacancies(Vacancies):\n",
        "  def salary_box(self):\n",
        "    import plotly.express as px\n",
        "    import matplotlib.pyplot as plt\n",
        "    px.box(self.df,x ='currency', y='from',facet_row ='employment',title='Распределение зп').show()"
      ],
      "metadata": {
        "id": "H7anPYcOlmAJ"
      },
      "execution_count": 70,
      "outputs": []
    },
    {
      "cell_type": "code",
      "source": [
        "vac=Vacancies()\n",
        "vac.load('Бухгалтер')\n",
        "vac.salary_box()"
      ],
      "metadata": {
        "colab": {
          "base_uri": "https://localhost:8080/",
          "height": 631
        },
        "id": "FLSOZN7fluEr",
        "outputId": "822016f8-458c-4759-abad-d95bfa917db5"
      },
      "execution_count": 71,
      "outputs": [
        {
          "output_type": "stream",
          "name": "stderr",
          "text": [
            "<ipython-input-58-bca7137cfbf7>:14: FutureWarning: The frame.append method is deprecated and will be removed from pandas in a future version. Use pandas.concat instead.\n",
            "  tmp=tmp.append(df(js)[cols])\n",
            "<ipython-input-58-bca7137cfbf7>:14: FutureWarning: The frame.append method is deprecated and will be removed from pandas in a future version. Use pandas.concat instead.\n",
            "  tmp=tmp.append(df(js)[cols])\n"
          ]
        },
        {
          "output_type": "display_data",
          "data": {
            "text/html": [
              "<html>\n",
              "<head><meta charset=\"utf-8\" /></head>\n",
              "<body>\n",
              "    <div>            <script src=\"https://cdnjs.cloudflare.com/ajax/libs/mathjax/2.7.5/MathJax.js?config=TeX-AMS-MML_SVG\"></script><script type=\"text/javascript\">if (window.MathJax && window.MathJax.Hub && window.MathJax.Hub.Config) {window.MathJax.Hub.Config({SVG: {font: \"STIX-Web\"}});}</script>                <script type=\"text/javascript\">window.PlotlyConfig = {MathJaxConfig: 'local'};</script>\n",
              "        <script charset=\"utf-8\" src=\"https://cdn.plot.ly/plotly-2.24.1.min.js\"></script>                <div id=\"827b630f-4cd6-4f0a-a9f7-551364edaf2b\" class=\"plotly-graph-div\" style=\"height:525px; width:100%;\"></div>            <script type=\"text/javascript\">                                    window.PLOTLYENV=window.PLOTLYENV || {};                                    if (document.getElementById(\"827b630f-4cd6-4f0a-a9f7-551364edaf2b\")) {                    Plotly.newPlot(                        \"827b630f-4cd6-4f0a-a9f7-551364edaf2b\",                        [{\"alignmentgroup\":\"True\",\"hovertemplate\":\"employment=\\u041f\\u043e\\u043b\\u043d\\u0430\\u044f \\u0437\\u0430\\u043d\\u044f\\u0442\\u043e\\u0441\\u0442\\u044c\\u003cbr\\u003ecurrency=%{x}\\u003cbr\\u003efrom=%{y}\\u003cextra\\u003e\\u003c\\u002fextra\\u003e\",\"legendgroup\":\"\",\"marker\":{\"color\":\"#636efa\"},\"name\":\"\",\"notched\":false,\"offsetgroup\":\"\",\"orientation\":\"v\",\"showlegend\":false,\"x\":[\"BYR\",\"BYR\",\"BYR\",\"BYR\",\"BYR\",\"BYR\",\"KZT\",\"KZT\",\"RUR\",\"RUR\",\"BYR\",\"BYR\",\"UZS\",\"UZS\",\"KZT\",\"KZT\",\"RUR\",\"RUR\",\"BYR\",\"BYR\",\"RUR\",\"RUR\",\"KZT\",\"KZT\",\"RUR\",\"RUR\",\"RUR\",\"RUR\",\"USD\",\"USD\",\"RUR\",\"RUR\",\"BYR\",\"BYR\",\"RUR\",\"RUR\",\"KZT\",\"KZT\",\"RUR\",\"RUR\",\"BYR\",\"BYR\",\"RUR\",\"RUR\",\"RUR\",\"RUR\",\"KZT\",\"KZT\",\"RUR\",\"RUR\",\"BYR\",\"BYR\",\"BYR\",\"BYR\",\"RUR\",\"RUR\",\"RUR\",\"RUR\",\"RUR\",\"RUR\",\"RUR\",\"RUR\",\"BYR\",\"BYR\",\"BYR\",\"BYR\",\"RUR\",\"RUR\",\"RUR\",\"RUR\",\"RUR\",\"RUR\",\"BYR\",\"BYR\",\"RUR\",\"RUR\",\"RUR\",\"RUR\",\"RUR\",\"RUR\",\"RUR\",\"RUR\",\"RUR\",\"RUR\",\"RUR\",\"RUR\",\"RUR\",\"RUR\",\"RUR\",\"RUR\",\"RUR\",\"RUR\",\"RUR\",\"RUR\",\"RUR\",\"RUR\",\"RUR\",\"RUR\",\"RUR\",\"RUR\",\"RUR\",\"RUR\",\"BYR\",\"BYR\",\"RUR\",\"RUR\",\"RUR\",\"RUR\",\"RUR\",\"RUR\",\"RUR\",\"RUR\",\"RUR\",\"RUR\",\"RUR\",\"RUR\",\"RUR\",\"RUR\",\"RUR\",\"RUR\",\"RUR\",\"RUR\",\"RUR\",\"RUR\",\"RUR\",\"RUR\",\"RUR\",\"RUR\",\"UZS\",\"UZS\",\"RUR\",\"RUR\",\"RUR\",\"RUR\",\"RUR\",\"RUR\",\"RUR\",\"RUR\",\"RUR\",\"RUR\",\"RUR\",\"RUR\",\"RUR\",\"RUR\",\"RUR\",\"RUR\",\"RUR\",\"RUR\",\"RUR\",\"RUR\",\"RUR\",\"RUR\",\"RUR\",\"RUR\",\"RUR\",\"RUR\",\"RUR\",\"RUR\",\"KZT\",\"KZT\",\"RUR\",\"RUR\",\"KZT\",\"KZT\",\"KZT\",\"KZT\",\"RUR\",\"RUR\",\"RUR\",\"RUR\",\"RUR\",\"RUR\",\"RUR\",\"RUR\",\"KZT\",\"KZT\",\"RUR\",\"RUR\",\"RUR\",\"RUR\",\"RUR\",\"RUR\",\"KZT\",\"KZT\",\"RUR\",\"RUR\",\"RUR\",\"RUR\"],\"x0\":\" \",\"xaxis\":\"x2\",\"y\":[1900.0,1900.0,1700.0,1700.0,1500.0,1500.0,700000.0,700000.0,16000.0,16000.0,1800.0,1800.0,12000000.0,12000000.0,400000.0,400000.0,40000.0,40000.0,1300.0,1300.0,55000.0,55000.0,200000.0,200000.0,180000.0,180000.0,50000.0,50000.0,600.0,600.0,60000.0,60000.0,1200.0,1200.0,50000.0,50000.0,700000.0,700000.0,100000.0,100000.0,1600.0,1600.0,50000.0,50000.0,200000.0,200000.0,300000.0,300000.0,40000.0,40000.0,3000.0,3000.0,300.0,300.0,130000.0,130000.0,60000.0,60000.0,40000.0,40000.0,43700.0,43700.0,1500.0,1500.0,1800.0,1800.0,42000.0,42000.0,50000.0,50000.0,58000.0,58000.0,950.0,950.0,45000.0,45000.0,50000.0,50000.0,45000.0,45000.0,80000.0,80000.0,67000.0,67000.0,50000.0,50000.0,100000.0,100000.0,120000.0,120000.0,115000.0,115000.0,105000.0,105000.0,50000.0,50000.0,82000.0,82000.0,100000.0,100000.0,47000.0,47000.0,2000.0,2000.0,15000.0,15000.0,100000.0,100000.0,50000.0,50000.0,50000.0,50000.0,null,null,100000.0,100000.0,130000.0,130000.0,55000.0,55000.0,80000.0,80000.0,200000.0,200000.0,60000.0,60000.0,45000.0,45000.0,6000000.0,6000000.0,90000.0,90000.0,120000.0,120000.0,50000.0,50000.0,35000.0,35000.0,42500.0,42500.0,50000.0,50000.0,180000.0,180000.0,68000.0,68000.0,51750.0,51750.0,30000.0,30000.0,100000.0,100000.0,null,null,100000.0,100000.0,70000.0,70000.0,null,null,48000.0,48000.0,400000.0,400000.0,160000.0,160000.0,40000.0,40000.0,30000.0,30000.0,30000.0,30000.0,20000.0,20000.0,250000.0,250000.0,110000.0,110000.0,50000.0,50000.0,40000.0,40000.0,250000.0,250000.0,45240.0,45240.0,50000.0,50000.0],\"y0\":\" \",\"yaxis\":\"y2\",\"type\":\"box\"},{\"alignmentgroup\":\"True\",\"hovertemplate\":\"employment=\\u0427\\u0430\\u0441\\u0442\\u0438\\u0447\\u043d\\u0430\\u044f \\u0437\\u0430\\u043d\\u044f\\u0442\\u043e\\u0441\\u0442\\u044c\\u003cbr\\u003ecurrency=%{x}\\u003cbr\\u003efrom=%{y}\\u003cextra\\u003e\\u003c\\u002fextra\\u003e\",\"legendgroup\":\"\",\"marker\":{\"color\":\"#636efa\"},\"name\":\"\",\"notched\":false,\"offsetgroup\":\"\",\"orientation\":\"v\",\"showlegend\":false,\"x\":[\"RUR\",\"RUR\",\"USD\",\"USD\",\"RUR\",\"RUR\",\"RUR\",\"RUR\",\"RUR\",\"RUR\",\"RUR\",\"RUR\"],\"x0\":\" \",\"xaxis\":\"x\",\"y\":[3000.0,3000.0,2000.0,2000.0,75000.0,75000.0,30000.0,30000.0,30000.0,30000.0,55000.0,55000.0],\"y0\":\" \",\"yaxis\":\"y\",\"type\":\"box\"}],                        {\"template\":{\"data\":{\"histogram2dcontour\":[{\"type\":\"histogram2dcontour\",\"colorbar\":{\"outlinewidth\":0,\"ticks\":\"\"},\"colorscale\":[[0.0,\"#0d0887\"],[0.1111111111111111,\"#46039f\"],[0.2222222222222222,\"#7201a8\"],[0.3333333333333333,\"#9c179e\"],[0.4444444444444444,\"#bd3786\"],[0.5555555555555556,\"#d8576b\"],[0.6666666666666666,\"#ed7953\"],[0.7777777777777778,\"#fb9f3a\"],[0.8888888888888888,\"#fdca26\"],[1.0,\"#f0f921\"]]}],\"choropleth\":[{\"type\":\"choropleth\",\"colorbar\":{\"outlinewidth\":0,\"ticks\":\"\"}}],\"histogram2d\":[{\"type\":\"histogram2d\",\"colorbar\":{\"outlinewidth\":0,\"ticks\":\"\"},\"colorscale\":[[0.0,\"#0d0887\"],[0.1111111111111111,\"#46039f\"],[0.2222222222222222,\"#7201a8\"],[0.3333333333333333,\"#9c179e\"],[0.4444444444444444,\"#bd3786\"],[0.5555555555555556,\"#d8576b\"],[0.6666666666666666,\"#ed7953\"],[0.7777777777777778,\"#fb9f3a\"],[0.8888888888888888,\"#fdca26\"],[1.0,\"#f0f921\"]]}],\"heatmap\":[{\"type\":\"heatmap\",\"colorbar\":{\"outlinewidth\":0,\"ticks\":\"\"},\"colorscale\":[[0.0,\"#0d0887\"],[0.1111111111111111,\"#46039f\"],[0.2222222222222222,\"#7201a8\"],[0.3333333333333333,\"#9c179e\"],[0.4444444444444444,\"#bd3786\"],[0.5555555555555556,\"#d8576b\"],[0.6666666666666666,\"#ed7953\"],[0.7777777777777778,\"#fb9f3a\"],[0.8888888888888888,\"#fdca26\"],[1.0,\"#f0f921\"]]}],\"heatmapgl\":[{\"type\":\"heatmapgl\",\"colorbar\":{\"outlinewidth\":0,\"ticks\":\"\"},\"colorscale\":[[0.0,\"#0d0887\"],[0.1111111111111111,\"#46039f\"],[0.2222222222222222,\"#7201a8\"],[0.3333333333333333,\"#9c179e\"],[0.4444444444444444,\"#bd3786\"],[0.5555555555555556,\"#d8576b\"],[0.6666666666666666,\"#ed7953\"],[0.7777777777777778,\"#fb9f3a\"],[0.8888888888888888,\"#fdca26\"],[1.0,\"#f0f921\"]]}],\"contourcarpet\":[{\"type\":\"contourcarpet\",\"colorbar\":{\"outlinewidth\":0,\"ticks\":\"\"}}],\"contour\":[{\"type\":\"contour\",\"colorbar\":{\"outlinewidth\":0,\"ticks\":\"\"},\"colorscale\":[[0.0,\"#0d0887\"],[0.1111111111111111,\"#46039f\"],[0.2222222222222222,\"#7201a8\"],[0.3333333333333333,\"#9c179e\"],[0.4444444444444444,\"#bd3786\"],[0.5555555555555556,\"#d8576b\"],[0.6666666666666666,\"#ed7953\"],[0.7777777777777778,\"#fb9f3a\"],[0.8888888888888888,\"#fdca26\"],[1.0,\"#f0f921\"]]}],\"surface\":[{\"type\":\"surface\",\"colorbar\":{\"outlinewidth\":0,\"ticks\":\"\"},\"colorscale\":[[0.0,\"#0d0887\"],[0.1111111111111111,\"#46039f\"],[0.2222222222222222,\"#7201a8\"],[0.3333333333333333,\"#9c179e\"],[0.4444444444444444,\"#bd3786\"],[0.5555555555555556,\"#d8576b\"],[0.6666666666666666,\"#ed7953\"],[0.7777777777777778,\"#fb9f3a\"],[0.8888888888888888,\"#fdca26\"],[1.0,\"#f0f921\"]]}],\"mesh3d\":[{\"type\":\"mesh3d\",\"colorbar\":{\"outlinewidth\":0,\"ticks\":\"\"}}],\"scatter\":[{\"fillpattern\":{\"fillmode\":\"overlay\",\"size\":10,\"solidity\":0.2},\"type\":\"scatter\"}],\"parcoords\":[{\"type\":\"parcoords\",\"line\":{\"colorbar\":{\"outlinewidth\":0,\"ticks\":\"\"}}}],\"scatterpolargl\":[{\"type\":\"scatterpolargl\",\"marker\":{\"colorbar\":{\"outlinewidth\":0,\"ticks\":\"\"}}}],\"bar\":[{\"error_x\":{\"color\":\"#2a3f5f\"},\"error_y\":{\"color\":\"#2a3f5f\"},\"marker\":{\"line\":{\"color\":\"#E5ECF6\",\"width\":0.5},\"pattern\":{\"fillmode\":\"overlay\",\"size\":10,\"solidity\":0.2}},\"type\":\"bar\"}],\"scattergeo\":[{\"type\":\"scattergeo\",\"marker\":{\"colorbar\":{\"outlinewidth\":0,\"ticks\":\"\"}}}],\"scatterpolar\":[{\"type\":\"scatterpolar\",\"marker\":{\"colorbar\":{\"outlinewidth\":0,\"ticks\":\"\"}}}],\"histogram\":[{\"marker\":{\"pattern\":{\"fillmode\":\"overlay\",\"size\":10,\"solidity\":0.2}},\"type\":\"histogram\"}],\"scattergl\":[{\"type\":\"scattergl\",\"marker\":{\"colorbar\":{\"outlinewidth\":0,\"ticks\":\"\"}}}],\"scatter3d\":[{\"type\":\"scatter3d\",\"line\":{\"colorbar\":{\"outlinewidth\":0,\"ticks\":\"\"}},\"marker\":{\"colorbar\":{\"outlinewidth\":0,\"ticks\":\"\"}}}],\"scattermapbox\":[{\"type\":\"scattermapbox\",\"marker\":{\"colorbar\":{\"outlinewidth\":0,\"ticks\":\"\"}}}],\"scatterternary\":[{\"type\":\"scatterternary\",\"marker\":{\"colorbar\":{\"outlinewidth\":0,\"ticks\":\"\"}}}],\"scattercarpet\":[{\"type\":\"scattercarpet\",\"marker\":{\"colorbar\":{\"outlinewidth\":0,\"ticks\":\"\"}}}],\"carpet\":[{\"aaxis\":{\"endlinecolor\":\"#2a3f5f\",\"gridcolor\":\"white\",\"linecolor\":\"white\",\"minorgridcolor\":\"white\",\"startlinecolor\":\"#2a3f5f\"},\"baxis\":{\"endlinecolor\":\"#2a3f5f\",\"gridcolor\":\"white\",\"linecolor\":\"white\",\"minorgridcolor\":\"white\",\"startlinecolor\":\"#2a3f5f\"},\"type\":\"carpet\"}],\"table\":[{\"cells\":{\"fill\":{\"color\":\"#EBF0F8\"},\"line\":{\"color\":\"white\"}},\"header\":{\"fill\":{\"color\":\"#C8D4E3\"},\"line\":{\"color\":\"white\"}},\"type\":\"table\"}],\"barpolar\":[{\"marker\":{\"line\":{\"color\":\"#E5ECF6\",\"width\":0.5},\"pattern\":{\"fillmode\":\"overlay\",\"size\":10,\"solidity\":0.2}},\"type\":\"barpolar\"}],\"pie\":[{\"automargin\":true,\"type\":\"pie\"}]},\"layout\":{\"autotypenumbers\":\"strict\",\"colorway\":[\"#636efa\",\"#EF553B\",\"#00cc96\",\"#ab63fa\",\"#FFA15A\",\"#19d3f3\",\"#FF6692\",\"#B6E880\",\"#FF97FF\",\"#FECB52\"],\"font\":{\"color\":\"#2a3f5f\"},\"hovermode\":\"closest\",\"hoverlabel\":{\"align\":\"left\"},\"paper_bgcolor\":\"white\",\"plot_bgcolor\":\"#E5ECF6\",\"polar\":{\"bgcolor\":\"#E5ECF6\",\"angularaxis\":{\"gridcolor\":\"white\",\"linecolor\":\"white\",\"ticks\":\"\"},\"radialaxis\":{\"gridcolor\":\"white\",\"linecolor\":\"white\",\"ticks\":\"\"}},\"ternary\":{\"bgcolor\":\"#E5ECF6\",\"aaxis\":{\"gridcolor\":\"white\",\"linecolor\":\"white\",\"ticks\":\"\"},\"baxis\":{\"gridcolor\":\"white\",\"linecolor\":\"white\",\"ticks\":\"\"},\"caxis\":{\"gridcolor\":\"white\",\"linecolor\":\"white\",\"ticks\":\"\"}},\"coloraxis\":{\"colorbar\":{\"outlinewidth\":0,\"ticks\":\"\"}},\"colorscale\":{\"sequential\":[[0.0,\"#0d0887\"],[0.1111111111111111,\"#46039f\"],[0.2222222222222222,\"#7201a8\"],[0.3333333333333333,\"#9c179e\"],[0.4444444444444444,\"#bd3786\"],[0.5555555555555556,\"#d8576b\"],[0.6666666666666666,\"#ed7953\"],[0.7777777777777778,\"#fb9f3a\"],[0.8888888888888888,\"#fdca26\"],[1.0,\"#f0f921\"]],\"sequentialminus\":[[0.0,\"#0d0887\"],[0.1111111111111111,\"#46039f\"],[0.2222222222222222,\"#7201a8\"],[0.3333333333333333,\"#9c179e\"],[0.4444444444444444,\"#bd3786\"],[0.5555555555555556,\"#d8576b\"],[0.6666666666666666,\"#ed7953\"],[0.7777777777777778,\"#fb9f3a\"],[0.8888888888888888,\"#fdca26\"],[1.0,\"#f0f921\"]],\"diverging\":[[0,\"#8e0152\"],[0.1,\"#c51b7d\"],[0.2,\"#de77ae\"],[0.3,\"#f1b6da\"],[0.4,\"#fde0ef\"],[0.5,\"#f7f7f7\"],[0.6,\"#e6f5d0\"],[0.7,\"#b8e186\"],[0.8,\"#7fbc41\"],[0.9,\"#4d9221\"],[1,\"#276419\"]]},\"xaxis\":{\"gridcolor\":\"white\",\"linecolor\":\"white\",\"ticks\":\"\",\"title\":{\"standoff\":15},\"zerolinecolor\":\"white\",\"automargin\":true,\"zerolinewidth\":2},\"yaxis\":{\"gridcolor\":\"white\",\"linecolor\":\"white\",\"ticks\":\"\",\"title\":{\"standoff\":15},\"zerolinecolor\":\"white\",\"automargin\":true,\"zerolinewidth\":2},\"scene\":{\"xaxis\":{\"backgroundcolor\":\"#E5ECF6\",\"gridcolor\":\"white\",\"linecolor\":\"white\",\"showbackground\":true,\"ticks\":\"\",\"zerolinecolor\":\"white\",\"gridwidth\":2},\"yaxis\":{\"backgroundcolor\":\"#E5ECF6\",\"gridcolor\":\"white\",\"linecolor\":\"white\",\"showbackground\":true,\"ticks\":\"\",\"zerolinecolor\":\"white\",\"gridwidth\":2},\"zaxis\":{\"backgroundcolor\":\"#E5ECF6\",\"gridcolor\":\"white\",\"linecolor\":\"white\",\"showbackground\":true,\"ticks\":\"\",\"zerolinecolor\":\"white\",\"gridwidth\":2}},\"shapedefaults\":{\"line\":{\"color\":\"#2a3f5f\"}},\"annotationdefaults\":{\"arrowcolor\":\"#2a3f5f\",\"arrowhead\":0,\"arrowwidth\":1},\"geo\":{\"bgcolor\":\"white\",\"landcolor\":\"#E5ECF6\",\"subunitcolor\":\"white\",\"showland\":true,\"showlakes\":true,\"lakecolor\":\"white\"},\"title\":{\"x\":0.05},\"mapbox\":{\"style\":\"light\"}}},\"xaxis\":{\"anchor\":\"y\",\"domain\":[0.0,0.98],\"title\":{\"text\":\"currency\"}},\"yaxis\":{\"anchor\":\"x\",\"domain\":[0.0,0.485],\"title\":{\"text\":\"from\"}},\"xaxis2\":{\"anchor\":\"y2\",\"domain\":[0.0,0.98],\"matches\":\"x\",\"showticklabels\":false},\"yaxis2\":{\"anchor\":\"x2\",\"domain\":[0.515,1.0],\"matches\":\"y\",\"title\":{\"text\":\"from\"}},\"annotations\":[{\"font\":{},\"showarrow\":false,\"text\":\"employment=\\u0427\\u0430\\u0441\\u0442\\u0438\\u0447\\u043d\\u0430\\u044f \\u0437\\u0430\\u043d\\u044f\\u0442\\u043e\\u0441\\u0442\\u044c\",\"textangle\":90,\"x\":0.98,\"xanchor\":\"left\",\"xref\":\"paper\",\"y\":0.2425,\"yanchor\":\"middle\",\"yref\":\"paper\"},{\"font\":{},\"showarrow\":false,\"text\":\"employment=\\u041f\\u043e\\u043b\\u043d\\u0430\\u044f \\u0437\\u0430\\u043d\\u044f\\u0442\\u043e\\u0441\\u0442\\u044c\",\"textangle\":90,\"x\":0.98,\"xanchor\":\"left\",\"xref\":\"paper\",\"y\":0.7575000000000001,\"yanchor\":\"middle\",\"yref\":\"paper\"}],\"legend\":{\"tracegroupgap\":0},\"title\":{\"text\":\"\\u0420\\u0430\\u0441\\u043f\\u0440\\u0435\\u0434\\u0435\\u043b\\u0435\\u043d\\u0438\\u0435 \\u0437\\u043f\"},\"boxmode\":\"group\"},                        {\"responsive\": true}                    ).then(function(){\n",
              "                            \n",
              "var gd = document.getElementById('827b630f-4cd6-4f0a-a9f7-551364edaf2b');\n",
              "var x = new MutationObserver(function (mutations, observer) {{\n",
              "        var display = window.getComputedStyle(gd).display;\n",
              "        if (!display || display === 'none') {{\n",
              "            console.log([gd, 'removed!']);\n",
              "            Plotly.purge(gd);\n",
              "            observer.disconnect();\n",
              "        }}\n",
              "}});\n",
              "\n",
              "// Listen for the removal of the full notebook cells\n",
              "var notebookContainer = gd.closest('#notebook-container');\n",
              "if (notebookContainer) {{\n",
              "    x.observe(notebookContainer, {childList: true});\n",
              "}}\n",
              "\n",
              "// Listen for the clearing of the current output cell\n",
              "var outputEl = gd.closest('.output');\n",
              "if (outputEl) {{\n",
              "    x.observe(outputEl, {childList: true});\n",
              "}}\n",
              "\n",
              "                        })                };                            </script>        </div>\n",
              "</body>\n",
              "</html>"
            ]
          },
          "metadata": {}
        }
      ]
    },
    {
      "cell_type": "code",
      "source": [],
      "metadata": {
        "id": "_9bNZDzzmWrg"
      },
      "execution_count": null,
      "outputs": []
    }
  ]
}